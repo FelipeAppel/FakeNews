{
 "cells": [
  {
   "cell_type": "markdown",
   "id": "electoral-evans",
   "metadata": {},
   "source": [
    "### <span style='color:Blue'> Fake News Detection.  </span> \n",
    "    Nesse projeto utilizei Jupyter, qualquer outra forma de \"IDE\" funcionaria. \n",
    "    \n",
    "### <span style='color:Blue'> Introdução.  </span>\n",
    "   ##### <span style='color:Blue'> Classificação.  </span> \n",
    "      No campo do machine learning, classificação refere-se a um tipo de modelo preditivo, o qual tenta prever a classe de um conjunto de dados. Um exemplo é o modelo de spam, o algoritmo analisa o conteúdo do email e decide o que ou não spam\n",
    "***\n",
    "   ##### <span style='color:Blue'> CountVectorizer.  </span>\n",
    "       Vamos utilizar uma biblioteca do Sklearn chamada CountVectorizer. Vamos converter nosso texto em um dicionário que mapeia cada palavra única para o número de vezes que ela aparece nos dados.\n",
    " ***      \n",
    "   #### <span style='color:Blue'> Naive Bayes.  </span> \n",
    "      A probabilidade de o evento A acontecer, dado o evento B acontecer.  O Teorema de Bayes calcula a probabilidade de que A seja verdadeiro dado o evento B com base na probabilidade inversa de B dado A. O método Naive Bayes para classificação de texto é muito popular porque pode ser escalado com muita facilidade. Naive Bayes assume independência condicional entre cada par de recursos, isso significa que estamos presumindo que as palavras em um artigo de notícias não têm impacto umas sobre as outras; estamos apenas examinando a probabilidade de ver cada palavra receber uma notícia falsa ou real\n",
    "      \n",
    "\n",
    "   \n",
    "       "
   ]
  },
  {
   "cell_type": "code",
   "execution_count": 3,
   "id": "alive-wheat",
   "metadata": {},
   "outputs": [],
   "source": [
    "from sklearn.feature_extraction.text import CountVectorizer\n",
    "from sklearn.naive_bayes import MultinomialNB\n",
    "from sklearn.metrics import accuracy_score"
   ]
  },
  {
   "cell_type": "code",
   "execution_count": 6,
   "id": "confirmed-milton",
   "metadata": {},
   "outputs": [],
   "source": [
    "import pandas as pd\n",
    "# Carregando os dois datasets\n",
    "fake = pd.read_csv(\"Fake.csv\")\n",
    "true = pd.read_csv(\"True.csv\")"
   ]
  },
  {
   "cell_type": "code",
   "execution_count": 7,
   "id": "wireless-trailer",
   "metadata": {},
   "outputs": [
    {
     "data": {
      "text/html": [
       "<div>\n",
       "<style scoped>\n",
       "    .dataframe tbody tr th:only-of-type {\n",
       "        vertical-align: middle;\n",
       "    }\n",
       "\n",
       "    .dataframe tbody tr th {\n",
       "        vertical-align: top;\n",
       "    }\n",
       "\n",
       "    .dataframe thead th {\n",
       "        text-align: right;\n",
       "    }\n",
       "</style>\n",
       "<table border=\"1\" class=\"dataframe\">\n",
       "  <thead>\n",
       "    <tr style=\"text-align: right;\">\n",
       "      <th></th>\n",
       "      <th>title</th>\n",
       "      <th>text</th>\n",
       "      <th>subject</th>\n",
       "      <th>date</th>\n",
       "    </tr>\n",
       "  </thead>\n",
       "  <tbody>\n",
       "    <tr>\n",
       "      <th>0</th>\n",
       "      <td>Donald Trump Sends Out Embarrassing New Year’...</td>\n",
       "      <td>Donald Trump just couldn t wish all Americans ...</td>\n",
       "      <td>News</td>\n",
       "      <td>December 31, 2017</td>\n",
       "    </tr>\n",
       "    <tr>\n",
       "      <th>1</th>\n",
       "      <td>Drunk Bragging Trump Staffer Started Russian ...</td>\n",
       "      <td>House Intelligence Committee Chairman Devin Nu...</td>\n",
       "      <td>News</td>\n",
       "      <td>December 31, 2017</td>\n",
       "    </tr>\n",
       "    <tr>\n",
       "      <th>2</th>\n",
       "      <td>Sheriff David Clarke Becomes An Internet Joke...</td>\n",
       "      <td>On Friday, it was revealed that former Milwauk...</td>\n",
       "      <td>News</td>\n",
       "      <td>December 30, 2017</td>\n",
       "    </tr>\n",
       "    <tr>\n",
       "      <th>3</th>\n",
       "      <td>Trump Is So Obsessed He Even Has Obama’s Name...</td>\n",
       "      <td>On Christmas day, Donald Trump announced that ...</td>\n",
       "      <td>News</td>\n",
       "      <td>December 29, 2017</td>\n",
       "    </tr>\n",
       "    <tr>\n",
       "      <th>4</th>\n",
       "      <td>Pope Francis Just Called Out Donald Trump Dur...</td>\n",
       "      <td>Pope Francis used his annual Christmas Day mes...</td>\n",
       "      <td>News</td>\n",
       "      <td>December 25, 2017</td>\n",
       "    </tr>\n",
       "  </tbody>\n",
       "</table>\n",
       "</div>"
      ],
      "text/plain": [
       "                                               title  \\\n",
       "0   Donald Trump Sends Out Embarrassing New Year’...   \n",
       "1   Drunk Bragging Trump Staffer Started Russian ...   \n",
       "2   Sheriff David Clarke Becomes An Internet Joke...   \n",
       "3   Trump Is So Obsessed He Even Has Obama’s Name...   \n",
       "4   Pope Francis Just Called Out Donald Trump Dur...   \n",
       "\n",
       "                                                text subject  \\\n",
       "0  Donald Trump just couldn t wish all Americans ...    News   \n",
       "1  House Intelligence Committee Chairman Devin Nu...    News   \n",
       "2  On Friday, it was revealed that former Milwauk...    News   \n",
       "3  On Christmas day, Donald Trump announced that ...    News   \n",
       "4  Pope Francis used his annual Christmas Day mes...    News   \n",
       "\n",
       "                date  \n",
       "0  December 31, 2017  \n",
       "1  December 31, 2017  \n",
       "2  December 30, 2017  \n",
       "3  December 29, 2017  \n",
       "4  December 25, 2017  "
      ]
     },
     "execution_count": 7,
     "metadata": {},
     "output_type": "execute_result"
    }
   ],
   "source": [
    "#Carregando os 'heads' dos datasets\n",
    "fake.head()\n",
    "\n",
    "\n",
    "\n"
   ]
  },
  {
   "cell_type": "code",
   "execution_count": 8,
   "id": "genetic-launch",
   "metadata": {},
   "outputs": [
    {
     "data": {
      "text/html": [
       "<div>\n",
       "<style scoped>\n",
       "    .dataframe tbody tr th:only-of-type {\n",
       "        vertical-align: middle;\n",
       "    }\n",
       "\n",
       "    .dataframe tbody tr th {\n",
       "        vertical-align: top;\n",
       "    }\n",
       "\n",
       "    .dataframe thead th {\n",
       "        text-align: right;\n",
       "    }\n",
       "</style>\n",
       "<table border=\"1\" class=\"dataframe\">\n",
       "  <thead>\n",
       "    <tr style=\"text-align: right;\">\n",
       "      <th></th>\n",
       "      <th>title</th>\n",
       "      <th>text</th>\n",
       "      <th>subject</th>\n",
       "      <th>date</th>\n",
       "    </tr>\n",
       "  </thead>\n",
       "  <tbody>\n",
       "    <tr>\n",
       "      <th>0</th>\n",
       "      <td>As U.S. budget fight looms, Republicans flip t...</td>\n",
       "      <td>WASHINGTON (Reuters) - The head of a conservat...</td>\n",
       "      <td>politicsNews</td>\n",
       "      <td>December 31, 2017</td>\n",
       "    </tr>\n",
       "    <tr>\n",
       "      <th>1</th>\n",
       "      <td>U.S. military to accept transgender recruits o...</td>\n",
       "      <td>WASHINGTON (Reuters) - Transgender people will...</td>\n",
       "      <td>politicsNews</td>\n",
       "      <td>December 29, 2017</td>\n",
       "    </tr>\n",
       "    <tr>\n",
       "      <th>2</th>\n",
       "      <td>Senior U.S. Republican senator: 'Let Mr. Muell...</td>\n",
       "      <td>WASHINGTON (Reuters) - The special counsel inv...</td>\n",
       "      <td>politicsNews</td>\n",
       "      <td>December 31, 2017</td>\n",
       "    </tr>\n",
       "    <tr>\n",
       "      <th>3</th>\n",
       "      <td>FBI Russia probe helped by Australian diplomat...</td>\n",
       "      <td>WASHINGTON (Reuters) - Trump campaign adviser ...</td>\n",
       "      <td>politicsNews</td>\n",
       "      <td>December 30, 2017</td>\n",
       "    </tr>\n",
       "    <tr>\n",
       "      <th>4</th>\n",
       "      <td>Trump wants Postal Service to charge 'much mor...</td>\n",
       "      <td>SEATTLE/WASHINGTON (Reuters) - President Donal...</td>\n",
       "      <td>politicsNews</td>\n",
       "      <td>December 29, 2017</td>\n",
       "    </tr>\n",
       "  </tbody>\n",
       "</table>\n",
       "</div>"
      ],
      "text/plain": [
       "                                               title  \\\n",
       "0  As U.S. budget fight looms, Republicans flip t...   \n",
       "1  U.S. military to accept transgender recruits o...   \n",
       "2  Senior U.S. Republican senator: 'Let Mr. Muell...   \n",
       "3  FBI Russia probe helped by Australian diplomat...   \n",
       "4  Trump wants Postal Service to charge 'much mor...   \n",
       "\n",
       "                                                text       subject  \\\n",
       "0  WASHINGTON (Reuters) - The head of a conservat...  politicsNews   \n",
       "1  WASHINGTON (Reuters) - Transgender people will...  politicsNews   \n",
       "2  WASHINGTON (Reuters) - The special counsel inv...  politicsNews   \n",
       "3  WASHINGTON (Reuters) - Trump campaign adviser ...  politicsNews   \n",
       "4  SEATTLE/WASHINGTON (Reuters) - President Donal...  politicsNews   \n",
       "\n",
       "                 date  \n",
       "0  December 31, 2017   \n",
       "1  December 29, 2017   \n",
       "2  December 31, 2017   \n",
       "3  December 30, 2017   \n",
       "4  December 29, 2017   "
      ]
     },
     "execution_count": 8,
     "metadata": {},
     "output_type": "execute_result"
    }
   ],
   "source": [
    "#Carregando os 'heads' dos datasets\n",
    "true.head()"
   ]
  },
  {
   "cell_type": "code",
   "execution_count": 9,
   "id": "australian-philadelphia",
   "metadata": {},
   "outputs": [],
   "source": [
    "# No head temos title, text, a subject, and date published\n",
    "# Vamos flagear os conjuntos real = 0 fake = 1, coloquei uma coluna com 0 e 1 para a juntar os datasets "
   ]
  },
  {
   "cell_type": "code",
   "execution_count": 10,
   "id": "absent-riverside",
   "metadata": {},
   "outputs": [],
   "source": [
    "true[\"fake_news\"] = 0\n",
    "fake[\"fake_news\"] = 1"
   ]
  },
  {
   "cell_type": "code",
   "execution_count": 11,
   "id": "presidential-hudson",
   "metadata": {},
   "outputs": [
    {
     "data": {
      "text/html": [
       "<div>\n",
       "<style scoped>\n",
       "    .dataframe tbody tr th:only-of-type {\n",
       "        vertical-align: middle;\n",
       "    }\n",
       "\n",
       "    .dataframe tbody tr th {\n",
       "        vertical-align: top;\n",
       "    }\n",
       "\n",
       "    .dataframe thead th {\n",
       "        text-align: right;\n",
       "    }\n",
       "</style>\n",
       "<table border=\"1\" class=\"dataframe\">\n",
       "  <thead>\n",
       "    <tr style=\"text-align: right;\">\n",
       "      <th></th>\n",
       "      <th>title</th>\n",
       "      <th>text</th>\n",
       "      <th>subject</th>\n",
       "      <th>date</th>\n",
       "      <th>fake_news</th>\n",
       "    </tr>\n",
       "  </thead>\n",
       "  <tbody>\n",
       "  </tbody>\n",
       "</table>\n",
       "</div>"
      ],
      "text/plain": [
       "Empty DataFrame\n",
       "Columns: [title, text, subject, date, fake_news]\n",
       "Index: []"
      ]
     },
     "execution_count": 11,
     "metadata": {},
     "output_type": "execute_result"
    }
   ],
   "source": [
    "true.head(0)\n",
    "fake.head(0)\n",
    "#Criação de uma coluna "
   ]
  },
  {
   "cell_type": "code",
   "execution_count": 12,
   "id": "worst-resort",
   "metadata": {},
   "outputs": [
    {
     "data": {
      "text/html": [
       "<div>\n",
       "<style scoped>\n",
       "    .dataframe tbody tr th:only-of-type {\n",
       "        vertical-align: middle;\n",
       "    }\n",
       "\n",
       "    .dataframe tbody tr th {\n",
       "        vertical-align: top;\n",
       "    }\n",
       "\n",
       "    .dataframe thead th {\n",
       "        text-align: right;\n",
       "    }\n",
       "</style>\n",
       "<table border=\"1\" class=\"dataframe\">\n",
       "  <thead>\n",
       "    <tr style=\"text-align: right;\">\n",
       "      <th></th>\n",
       "      <th>title</th>\n",
       "      <th>text</th>\n",
       "      <th>subject</th>\n",
       "      <th>date</th>\n",
       "      <th>fake_news</th>\n",
       "    </tr>\n",
       "  </thead>\n",
       "  <tbody>\n",
       "    <tr>\n",
       "      <th>0</th>\n",
       "      <td>As U.S. budget fight looms, Republicans flip t...</td>\n",
       "      <td>WASHINGTON (Reuters) - The head of a conservat...</td>\n",
       "      <td>politicsNews</td>\n",
       "      <td>December 31, 2017</td>\n",
       "      <td>0</td>\n",
       "    </tr>\n",
       "    <tr>\n",
       "      <th>1</th>\n",
       "      <td>U.S. military to accept transgender recruits o...</td>\n",
       "      <td>WASHINGTON (Reuters) - Transgender people will...</td>\n",
       "      <td>politicsNews</td>\n",
       "      <td>December 29, 2017</td>\n",
       "      <td>0</td>\n",
       "    </tr>\n",
       "    <tr>\n",
       "      <th>2</th>\n",
       "      <td>Senior U.S. Republican senator: 'Let Mr. Muell...</td>\n",
       "      <td>WASHINGTON (Reuters) - The special counsel inv...</td>\n",
       "      <td>politicsNews</td>\n",
       "      <td>December 31, 2017</td>\n",
       "      <td>0</td>\n",
       "    </tr>\n",
       "    <tr>\n",
       "      <th>3</th>\n",
       "      <td>FBI Russia probe helped by Australian diplomat...</td>\n",
       "      <td>WASHINGTON (Reuters) - Trump campaign adviser ...</td>\n",
       "      <td>politicsNews</td>\n",
       "      <td>December 30, 2017</td>\n",
       "      <td>0</td>\n",
       "    </tr>\n",
       "    <tr>\n",
       "      <th>4</th>\n",
       "      <td>Trump wants Postal Service to charge 'much mor...</td>\n",
       "      <td>SEATTLE/WASHINGTON (Reuters) - President Donal...</td>\n",
       "      <td>politicsNews</td>\n",
       "      <td>December 29, 2017</td>\n",
       "      <td>0</td>\n",
       "    </tr>\n",
       "  </tbody>\n",
       "</table>\n",
       "</div>"
      ],
      "text/plain": [
       "                                               title  \\\n",
       "0  As U.S. budget fight looms, Republicans flip t...   \n",
       "1  U.S. military to accept transgender recruits o...   \n",
       "2  Senior U.S. Republican senator: 'Let Mr. Muell...   \n",
       "3  FBI Russia probe helped by Australian diplomat...   \n",
       "4  Trump wants Postal Service to charge 'much mor...   \n",
       "\n",
       "                                                text       subject  \\\n",
       "0  WASHINGTON (Reuters) - The head of a conservat...  politicsNews   \n",
       "1  WASHINGTON (Reuters) - Transgender people will...  politicsNews   \n",
       "2  WASHINGTON (Reuters) - The special counsel inv...  politicsNews   \n",
       "3  WASHINGTON (Reuters) - Trump campaign adviser ...  politicsNews   \n",
       "4  SEATTLE/WASHINGTON (Reuters) - President Donal...  politicsNews   \n",
       "\n",
       "                 date  fake_news  \n",
       "0  December 31, 2017           0  \n",
       "1  December 29, 2017           0  \n",
       "2  December 31, 2017           0  \n",
       "3  December 30, 2017           0  \n",
       "4  December 29, 2017           0  "
      ]
     },
     "execution_count": 12,
     "metadata": {},
     "output_type": "execute_result"
    }
   ],
   "source": [
    "\n",
    "true.head()\n"
   ]
  },
  {
   "cell_type": "markdown",
   "id": "naked-thread",
   "metadata": {},
   "source": [
    "#### Overfitting \n",
    "    Todos os artigos começam com Reuters, se o modelo for treinado desta forma o modelo aprenderia que todos os inputs com Reuters seriam verdadeiros e os que nao tivesse essa marca seria falso, isso é chamado Overfitting  "
   ]
  },
  {
   "cell_type": "code",
   "execution_count": 13,
   "id": "cathedral-zealand",
   "metadata": {},
   "outputs": [
    {
     "data": {
      "text/plain": [
       "0    WASHINGTON (Reuters) - The head of a conservat...\n",
       "1    WASHINGTON (Reuters) - Transgender people will...\n",
       "2    WASHINGTON (Reuters) - The special counsel inv...\n",
       "3    WASHINGTON (Reuters) - Trump campaign adviser ...\n",
       "4    SEATTLE/WASHINGTON (Reuters) - President Donal...\n",
       "Name: text, dtype: object"
      ]
     },
     "execution_count": 13,
     "metadata": {},
     "output_type": "execute_result"
    }
   ],
   "source": [
    "just_text = true[\"text\"]\n",
    "just_text.head()"
   ]
  },
  {
   "cell_type": "code",
   "execution_count": 14,
   "id": "historical-virgin",
   "metadata": {},
   "outputs": [],
   "source": [
    "\n",
    "#Vou corrigir isso removendo todas as infos iniciais para tornar os textos dos dataframes parecidos. \n",
    "#Para fazer isso, o pandas tem uma função útil chamada extractall () que aceita um padrão de expressão regular (regex) como argumento. \n",
    "#Regex é uma sequência especial de caracteres que define um padrão de pesquisa. \n",
    "#Vamos extrair todo o texto que vem após o hífen que vem depois da Reuters."
   ]
  },
  {
   "cell_type": "code",
   "execution_count": 15,
   "id": "flush-compatibility",
   "metadata": {},
   "outputs": [],
   "source": [
    "just_text = just_text.str.extractall(r\"^.*? - (?P<text>.*)\")\n",
    "#https://pandas.pydata.org/docs/reference/api/pandas.Series.str.extractall.html"
   ]
  },
  {
   "cell_type": "code",
   "execution_count": 16,
   "id": "secondary-front",
   "metadata": {},
   "outputs": [],
   "source": [
    "just_text = just_text.droplevel(1)\n",
    "#https://www.w3resource.com/pandas/series/series-droplevel.php"
   ]
  },
  {
   "cell_type": "code",
   "execution_count": 17,
   "id": "educated-scott",
   "metadata": {},
   "outputs": [],
   "source": [
    "true = true.assign(text=just_text[\"text\"])"
   ]
  },
  {
   "cell_type": "code",
   "execution_count": 18,
   "id": "double-orientation",
   "metadata": {},
   "outputs": [],
   "source": [
    "#Juntando os dois dataset\n",
    "\n",
    "df = pd.concat([fake, true], axis = 0)"
   ]
  },
  {
   "cell_type": "code",
   "execution_count": 19,
   "id": "smart-fancy",
   "metadata": {},
   "outputs": [],
   "source": [
    "#Não vou utilizar essas colunas no treinamento \n",
    "df = df.drop([\"subject\", \"date\", \"title\"], axis = 1)"
   ]
  },
  {
   "cell_type": "code",
   "execution_count": 20,
   "id": "transsexual-choir",
   "metadata": {},
   "outputs": [
    {
     "name": "stdout",
     "output_type": "stream",
     "text": [
      "<class 'pandas.core.frame.DataFrame'>\n",
      "Int64Index: 44898 entries, 0 to 21416\n",
      "Data columns (total 2 columns):\n",
      " #   Column     Non-Null Count  Dtype \n",
      "---  ------     --------------  ----- \n",
      " 0   text       44869 non-null  object\n",
      " 1   fake_news  44898 non-null  int64 \n",
      "dtypes: int64(1), object(1)\n",
      "memory usage: 1.0+ MB\n"
     ]
    }
   ],
   "source": [
    "df.info()\n",
    "df = df.dropna(axis = 0) "
   ]
  },
  {
   "cell_type": "code",
   "execution_count": 21,
   "id": "unknown-specification",
   "metadata": {},
   "outputs": [],
   "source": [
    "#Criaçao de um novo dataframe\n",
    "\n",
    "clean_text = df.to_csv(\"cleaned_news.csv\", index = False)"
   ]
  },
  {
   "cell_type": "code",
   "execution_count": 29,
   "id": "minute-safety",
   "metadata": {},
   "outputs": [
    {
     "data": {
      "text/html": [
       "<div>\n",
       "<style scoped>\n",
       "    .dataframe tbody tr th:only-of-type {\n",
       "        vertical-align: middle;\n",
       "    }\n",
       "\n",
       "    .dataframe tbody tr th {\n",
       "        vertical-align: top;\n",
       "    }\n",
       "\n",
       "    .dataframe thead th {\n",
       "        text-align: right;\n",
       "    }\n",
       "</style>\n",
       "<table border=\"1\" class=\"dataframe\">\n",
       "  <thead>\n",
       "    <tr style=\"text-align: right;\">\n",
       "      <th></th>\n",
       "      <th>text</th>\n",
       "      <th>fake_news</th>\n",
       "    </tr>\n",
       "  </thead>\n",
       "  <tbody>\n",
       "    <tr>\n",
       "      <th>0</th>\n",
       "      <td>Donald Trump just couldn t wish all Americans ...</td>\n",
       "      <td>1</td>\n",
       "    </tr>\n",
       "    <tr>\n",
       "      <th>1</th>\n",
       "      <td>House Intelligence Committee Chairman Devin Nu...</td>\n",
       "      <td>1</td>\n",
       "    </tr>\n",
       "    <tr>\n",
       "      <th>2</th>\n",
       "      <td>On Friday, it was revealed that former Milwauk...</td>\n",
       "      <td>1</td>\n",
       "    </tr>\n",
       "    <tr>\n",
       "      <th>3</th>\n",
       "      <td>On Christmas day, Donald Trump announced that ...</td>\n",
       "      <td>1</td>\n",
       "    </tr>\n",
       "    <tr>\n",
       "      <th>4</th>\n",
       "      <td>Pope Francis used his annual Christmas Day mes...</td>\n",
       "      <td>1</td>\n",
       "    </tr>\n",
       "  </tbody>\n",
       "</table>\n",
       "</div>"
      ],
      "text/plain": [
       "                                                text  fake_news\n",
       "0  Donald Trump just couldn t wish all Americans ...          1\n",
       "1  House Intelligence Committee Chairman Devin Nu...          1\n",
       "2  On Friday, it was revealed that former Milwauk...          1\n",
       "3  On Christmas day, Donald Trump announced that ...          1\n",
       "4  Pope Francis used his annual Christmas Day mes...          1"
      ]
     },
     "execution_count": 29,
     "metadata": {},
     "output_type": "execute_result"
    }
   ],
   "source": [
    "import pandas as pd\n",
    "df = pd.read_csv(\"cleaned_news.csv\")\n",
    "df.head()\n",
    "\n"
   ]
  },
  {
   "cell_type": "code",
   "execution_count": 30,
   "id": "instructional-dayton",
   "metadata": {},
   "outputs": [],
   "source": [
    "# Dividindo os Dados \n",
    "DV = \"fake_news\" # Variavel que mostra se é fake ou nao \n",
    "X = df.drop([DV], axis = 1)\n",
    "y = df[DV]"
   ]
  },
  {
   "cell_type": "code",
   "execution_count": 31,
   "id": "insured-celebrity",
   "metadata": {},
   "outputs": [],
   "source": [
    "from sklearn.model_selection import train_test_split\n",
    "# treino em 75%\n",
    "X_train, X_test, y_train, y_test = train_test_split(X,y, test_size=0.25)"
   ]
  },
  {
   "cell_type": "markdown",
   "id": "occasional-contact",
   "metadata": {},
   "source": [
    "O CountVectorizer faz duas coisas. Primeiro, ele cria um pacote de palavras analisando todas as palavras exclusivas em todo o texto e mapeando-as para um dicionário onde o valor de cada palavra é o número de vezes que ela aparece. Em seguida, ele transforma o texto em uma matriz (um monte de vetores alinhados lado a lado)  É importante notar que não ajustamos o X_test porque queremos que nosso modelo realmente trabalhe com dados que ele não viu antes."
   ]
  },
  {
   "cell_type": "code",
   "execution_count": 32,
   "id": "exciting-arcade",
   "metadata": {},
   "outputs": [],
   "source": [
    "\n",
    "from sklearn.feature_extraction.text import CountVectorizer\n",
    "\n",
    "count_vect = CountVectorizer(max_features = 10000)\n",
    "\n",
    "X_train_counts = count_vect.fit_transform(X_train[\"text\"])  \n",
    "X_test = count_vect.transform(X_test[\"text\"]) "
   ]
  },
  {
   "cell_type": "markdown",
   "id": "italic-edmonton",
   "metadata": {},
   "source": [
    "Antes de treinarmos nosso modelo, vamos falar sobre o que é especificamente o classificador Multinomial Bayes. Estamos calculando Naive Bayes em muitas palavras em todos os dados. Em nosso caso, isso significa responder à pergunta \"Qual é a probabilidade de uma determinada palavra aparecer, visto que o artigo é verdadeiro?\" Se você olhar para a fórmula do Teorema de Bayes, isso é em parte determinado pela probabilidade de que a notícia seja verdadeira (ou falsa!), Dado que existe uma palavra específica nela. Isso é repetido para cada palavra única em nosso vocabulário. O somatório de todos esses cálculos e a divisão por uma constante de normalização atribui o artigo a ser real ou não com base no resultado (uma probabilidade).\n"
   ]
  },
  {
   "cell_type": "code",
   "execution_count": 33,
   "id": "variable-marina",
   "metadata": {},
   "outputs": [
    {
     "data": {
      "text/plain": [
       "MultinomialNB(alpha=1.0, class_prior=None, fit_prior=True)"
      ]
     },
     "execution_count": 33,
     "metadata": {},
     "output_type": "execute_result"
    }
   ],
   "source": [
    "from sklearn.naive_bayes import MultinomialNB\n",
    "Naive = MultinomialNB()\n",
    "Naive.fit(X_train_counts, y_train)"
   ]
  },
  {
   "cell_type": "code",
   "execution_count": 34,
   "id": "sunset-quebec",
   "metadata": {},
   "outputs": [
    {
     "name": "stdout",
     "output_type": "stream",
     "text": [
      "Accuracy Score: 94.32162595828133\n"
     ]
    }
   ],
   "source": [
    "from sklearn.metrics import accuracy_score\n",
    "# Vamos usar o modelo no conjunto de validaçao \n",
    "predictions_NB = Naive.predict(X_test)\n",
    "# Use accuracy_score pra calcular a acuracia \n",
    "print(\"Accuracy Score:\",accuracy_score(predictions_NB, y_test)*100) "
   ]
  },
  {
   "cell_type": "markdown",
   "id": "handmade-frost",
   "metadata": {},
   "source": [
    "Vamos testar "
   ]
  },
  {
   "cell_type": "code",
   "execution_count": 35,
   "id": "welsh-bearing",
   "metadata": {},
   "outputs": [],
   "source": [
    "#Site conhecido por noticias falsas \n",
    "onion = [\"\"\"Saying the social media network was the only place he had heard about his purported newborn relative, local man \n",
    "Eric Cruthirds expressed doubt Wednesday as to whether his cousin Audrey had actually given birth to the baby pictured in his Facebook feed. \n",
    "“The story seems plausible enough, but you always have to stop and consider the source, which in this case is an outlet that isn’t exactly known for its accuracy,” \n",
    "said Cruthirds, who observed that the photos his cousin shared of herself in a hospital bed ostensibly holding her child for the first time were a bit blurry and \n",
    "could have been photoshopped without too much effort. “Audrey was definitely pregnant at the family reunion,\n",
    "but that doesn’t mean she carried the baby to term. Even if she did, there’s no guarantee the baby in these images is hers. \n",
    "Everyone’s liking and commenting on the post as if it were true, but let’s just say this wouldn’t be the first time my Aunt Brenda shared news on Facebook that turned out to be false. \n",
    "People really ought to check their facts before they spread around stuff like this.” At press time, Cruthirds was reportedly on the phone with the county clerk’s office, attempting to confirm whether there was any public record of the baby’s birth.\n",
    "\"\"\"]"
   ]
  },
  {
   "cell_type": "code",
   "execution_count": 36,
   "id": "adult-parliament",
   "metadata": {},
   "outputs": [
    {
     "name": "stdout",
     "output_type": "stream",
     "text": [
      "[1]\n"
     ]
    }
   ],
   "source": [
    "onion_vec = count_vect.transform(onion) #Vetor de palavras\n",
    "predict_onion = Naive.predict(onion_vec) # Aplicando \n",
    "# 1: fake news!\n",
    "print(predict_onion)"
   ]
  },
  {
   "cell_type": "code",
   "execution_count": 37,
   "id": "eleven-greek",
   "metadata": {},
   "outputs": [],
   "source": [
    "nyt = [\"\"\"Two top congressional Democrats opened an investigation on Saturday into President Trump’s removal of \n",
    "          Steve A. Linick, who led the office of the inspector general at the State Department, citing a pattern \n",
    "          of “politically-motivated firing of inspectors general.” Mr. Trump told Speaker Nancy Pelosi late \n",
    "          Friday night that he was ousting Mr. Linick, who was named by President Barack Obama to the State \n",
    "          Department post, and replacing him with an ambassador with close ties to Vice President Mike Pence in \n",
    "          the latest purge of inspectors general whom Mr. Trump has deemed insufficiently loyal to his \n",
    "          administration. In letters to the White House, State Department, and Mr. Linick, Representative Eliot \n",
    "          L. Engel of New York, the chairman of the House Foreign Affairs Committee, and Senator Bob Menendez of \n",
    "          New Jersey, the top Democrat on the Senate Foreign Relations Committee, requested that the administration\n",
    "          turn over records and information related to the firing of Mr. Linick as well as “records of all I.G. \n",
    "          investigations involving the Office of the Secretary that were open, pending, or incomplete at the \n",
    "          time of Mr. Linick’s firing.” Mr. Engel and Mr. Menendez said in their letters that they believe \n",
    "          Secretary of State Mike Pompeo recommended Mr. Linick’s ouster because he had opened an investigation \n",
    "          into Mr. Pompeo’s conduct. The lawmakers did not provide any more details, but a Democratic aide said \n",
    "          that Mr. Linick had been looking into whether Mr. Pompeo had misused a political appointee at the State \n",
    "          Department to perform personal tasks for himself and his wife. “Such an action, transparently designed to\n",
    "          protect Secretary Pompeo from personal accountability, would undermine the foundation of our democratic \n",
    "          institutions and may be an illegal act of retaliation,” the lawmakers wrote. Under law, the administration\n",
    "          must notify Congress 30 days before formally terminating an inspector general. Mr. Linick is expected to \n",
    "          leave his post then. Mr. Trump’s decision to remove Mr. Linick is the latest in a series of ousters aimed\n",
    "          at inspectors general who the president and his allies believe are opposed to his agenda. In May, Mr. \n",
    "          Trump moved to oust Christi A. Grimm, the principal deputy inspector general for the Department of Health\n",
    "          and Human Services, whose office had issued a report revealing the dire state of the nation’s response to\n",
    "          the pathogen. He has also taken steps to remove two other inspectors general, for the intelligence\n",
    "          community and for the Defense Department. Mr. Linick was spotlighted during the impeachment inquiry when \n",
    "          he requested an urgent meeting with congressional staff members to give them copies of documents related \n",
    "          to the State Department and Ukraine, signaling they could be relevant to the House investigation into \n",
    "          whether President Trump pressured Ukraine to investigate former Vice President Joseph R. Biden Jr. and \n",
    "          his son Hunter Biden. The documents — a record of contacts between Rudolph W. Giuliani, the president’s \n",
    "          personal lawyer, and Ukrainian prosecutors, as well as accounts of Ukrainian law enforcement proceedings \n",
    "          — turned out to be largely inconsequential.\"\"\"]"
   ]
  },
  {
   "cell_type": "code",
   "execution_count": 38,
   "id": "extended-adolescent",
   "metadata": {},
   "outputs": [
    {
     "name": "stdout",
     "output_type": "stream",
     "text": [
      "[0]\n"
     ]
    }
   ],
   "source": [
    "nyt_vec = count_vect.transform(nyt)\n",
    "predict_nyt = Naive.predict(nyt_vec)\n",
    "print(predict_nyt)"
   ]
  },
  {
   "cell_type": "code",
   "execution_count": null,
   "id": "seven-subdivision",
   "metadata": {},
   "outputs": [],
   "source": []
  }
 ],
 "metadata": {
  "kernelspec": {
   "display_name": "Python 3",
   "language": "python",
   "name": "python3"
  },
  "language_info": {
   "codemirror_mode": {
    "name": "ipython",
    "version": 3
   },
   "file_extension": ".py",
   "mimetype": "text/x-python",
   "name": "python",
   "nbconvert_exporter": "python",
   "pygments_lexer": "ipython3",
   "version": "3.7.8"
  }
 },
 "nbformat": 4,
 "nbformat_minor": 5
}
